{
 "cells": [
  {
   "cell_type": "markdown",
   "id": "d3b196b2-eace-4276-943a-affb187d3364",
   "metadata": {},
   "source": [
    "# Data Science Tools and Ecosystem"
   ]
  },
  {
   "cell_type": "markdown",
   "id": "cdcb0c55-b162-49f9-8c8e-ed53d73947d3",
   "metadata": {},
   "source": [
    "## Author\n",
    "Mariane Babe Jusoy"
   ]
  },
  {
   "cell_type": "markdown",
   "id": "d6ecef54-f75d-42c7-b2ab-24900d397e5e",
   "metadata": {},
   "source": [
    "In this notebook, Data Science Tools and Ecosystem are summarized"
   ]
  },
  {
   "cell_type": "markdown",
   "id": "2ec1c347-757f-4298-881e-011802ccb4b7",
   "metadata": {},
   "source": [
    "**Objectives:**\n",
    "* List of popular languages of Data Science\n",
    "* List of commmon libraries used by Data Scientists\n",
    "* Table of Data Science Tools\n",
    "* Arithmetic equation with multiplication, addition, and division"
   ]
  },
  {
   "cell_type": "markdown",
   "id": "6fab609b-5f60-42d8-9d16-d1f8caa11d44",
   "metadata": {},
   "source": [
    "Some of the popular languages that Data Scientists use are:\n",
    "\n",
    "1. R\n",
    "2. Python\n",
    "3. C++"
   ]
  },
  {
   "cell_type": "markdown",
   "id": "72b2a4d6-527c-4fd4-8776-64bf30880a92",
   "metadata": {},
   "source": [
    "Some of the commonly used libraries used by Data Scientits include:\n",
    "\n",
    "1. Pandas\n",
    "2. Apache Spark\n",
    "3. NumPy"
   ]
  },
  {
   "cell_type": "markdown",
   "id": "cce4d990-7f2e-47d3-8aaf-e950ef070f4a",
   "metadata": {},
   "source": [
    "| Data Science Tools |\n",
    "|--------------------|\n",
    "| Jupyter Notebooks |\n",
    "| Apache Zeppelin |\n",
    "| RStudio |"
   ]
  },
  {
   "cell_type": "markdown",
   "id": "552192c4-d65a-4c79-9bed-a29e6c5d4e89",
   "metadata": {},
   "source": [
    "### Below are a few examples of evaluating arithmetic expressions in Python"
   ]
  },
  {
   "cell_type": "code",
   "execution_count": 3,
   "id": "2f8e11c4-165d-4f77-a475-028e546a9183",
   "metadata": {},
   "outputs": [
    {
     "data": {
      "text/plain": [
       "17"
      ]
     },
     "execution_count": 3,
     "metadata": {},
     "output_type": "execute_result"
    }
   ],
   "source": [
    "# This is a simple arithmetic expression to multiply\n",
    "\n",
    "(3*4)+5"
   ]
  },
  {
   "cell_type": "code",
   "execution_count": 4,
   "id": "169f00d3-3afb-455d-8da4-a82df33ee9ae",
   "metadata": {},
   "outputs": [
    {
     "data": {
      "text/plain": [
       "3.3333333333333335"
      ]
     },
     "execution_count": 4,
     "metadata": {},
     "output_type": "execute_result"
    }
   ],
   "source": [
    "# This will convert 200 minutes to hours by dividing by 60\n",
    "\n",
    "200/60"
   ]
  },
  {
   "cell_type": "code",
   "execution_count": null,
   "id": "c98f7eb6-739c-4c5f-a39b-fe38ec4c6785",
   "metadata": {},
   "outputs": [],
   "source": []
  }
 ],
 "metadata": {
  "kernelspec": {
   "display_name": "Python 3 (ipykernel)",
   "language": "python",
   "name": "python3"
  },
  "language_info": {
   "codemirror_mode": {
    "name": "ipython",
    "version": 3
   },
   "file_extension": ".py",
   "mimetype": "text/x-python",
   "name": "python",
   "nbconvert_exporter": "python",
   "pygments_lexer": "ipython3",
   "version": "3.11.7"
  }
 },
 "nbformat": 4,
 "nbformat_minor": 5
}
